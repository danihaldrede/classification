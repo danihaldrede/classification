{
 "cells": [
  {
   "cell_type": "markdown",
   "metadata": {},
   "source": [
    "# Homework Two - Classification\n",
    "## Objective\n",
    "\n",
    "As a result of completing this exercise you should be able to:\n",
    "\n",
    "- Understand the concept of Classification (binary and multi-class classifier)\n",
    "- Understand the concept of K Nearest Neighbors (KNN)\n",
    "- Understand the concept of Decision Tree\n",
    "- Understand the concept of Support Vector Machine (SVM)\n",
    "- Process external and real-world data properly\n",
    "- Build the classification models using above learning algorithms using `scikit-learn`\n",
    "- Do model evaluation using classification reports using `scikit-learn`"
   ]
  },
  {
   "cell_type": "markdown",
   "metadata": {},
   "source": [
    "## Instructions\n",
    "\n",
    "### Section\n",
    "This homework includes three coding sections (one section for one learning algorithm) and one disucssion section. You will build classification models using different approaches (i.e., KNN, decision tree, and SVM) with scikit-learn module in Python . \n",
    "\n",
    "### Submission\n",
    "The assignment should be submitted on Canvas. You will submit a zip file containing a single Jupyter Notebook(ipynb file) and two subfolders (\"images\" and \"datasets\"). In the \"datasets\" folder, please include the data set used for this assignment. In the \"images\" folder, please include any images used or created for this assignment.  \n",
    "\n",
    "- Name you zip file as hw2_$\\lt$your JMU eid$\\gt$.zip. For example, Dr. Yang's eid is yang4cx, then the submission would be hw2_yang4cx.zip\n",
    "- Please make sure your zip file is in a valid format and can be unzip before your sumbit it\n",
    "\n",
    "### Some useful webpage from Scikit-Learn library\n",
    "- https://scikit-learn.org/stable/tutorial/basic/tutorial.html\n",
    "- https://scikit-learn.org/stable/tutorial/statistical_inference/settings.html\n",
    "- https://scikit-learn.org/stable/modules/neighbors.html\n",
    "- https://scikit-learn.org/stable/modules/tree.html\n",
    "- https://scikit-learn.org/stable/modules/svm.html"
   ]
  },
  {
   "cell_type": "markdown",
   "metadata": {},
   "source": [
    "## Dataset\n",
    "\n",
    "In this assignment, we will apply diverse classficiation models to an external dataset to classify glass. Imagine that you are working for CSI. Your colleagues hand you some samples of glass from some crime scene and you are asked to figure out what type of glass are they.\n",
    "\n",
    "Please build predictive models that answers the question: \"Which type of glass does a sample belong to\" using the glass data (i.e., refractive index, sodium, ..., and iron) and the machine learning algorithms we have learned.\n",
    "\n",
    "<a id=\"datasource\"></a>\n",
    "\n",
    "### Data source:\n",
    "The data are from Kaggle and more details as well as data description can be found at https://www.kaggle.com/uciml/glass. (The dataset is the \"glass.csv\" on the website)"
   ]
  },
  {
   "cell_type": "markdown",
   "metadata": {},
   "source": [
    "## Section I: KNN"
   ]
  },
  {
   "cell_type": "markdown",
   "metadata": {},
   "source": [
    "### Preprocessing"
   ]
  },
  {
   "cell_type": "code",
   "execution_count": 38,
   "metadata": {},
   "outputs": [],
   "source": [
    "# load packages and methods\n",
    "import numpy as np\n",
    "import pandas as pd \n",
    "import matplotlib.pyplot as plt \n",
    "from matplotlib.colors import ListedColormap\n",
    "from sklearn import neighbors, datasets\n",
    "from sklearn.neighbors import DistanceMetric\n",
    "from sklearn.model_selection import train_test_split\n",
    "from sklearn.metrics import confusion_matrix, classification_report, accuracy_score\n",
    "\n",
    "import warnings \n",
    "warnings.filterwarnings('ignore')\n"
   ]
  },
  {
   "cell_type": "code",
   "execution_count": 39,
   "metadata": {},
   "outputs": [
    {
     "name": "stdout",
     "output_type": "stream",
     "text": [
      "          RI     Na    Mg    Al     Si     K    Ca    Ba   Fe  Type\n",
      "0    1.52101  13.64  4.49  1.10  71.78  0.06  8.75  0.00  0.0     1\n",
      "1    1.51761  13.89  3.60  1.36  72.73  0.48  7.83  0.00  0.0     1\n",
      "2    1.51618  13.53  3.55  1.54  72.99  0.39  7.78  0.00  0.0     1\n",
      "3    1.51766  13.21  3.69  1.29  72.61  0.57  8.22  0.00  0.0     1\n",
      "4    1.51742  13.27  3.62  1.24  73.08  0.55  8.07  0.00  0.0     1\n",
      "..       ...    ...   ...   ...    ...   ...   ...   ...  ...   ...\n",
      "209  1.51623  14.14  0.00  2.88  72.61  0.08  9.18  1.06  0.0     7\n",
      "210  1.51685  14.92  0.00  1.99  73.06  0.00  8.40  1.59  0.0     7\n",
      "211  1.52065  14.36  0.00  2.02  73.42  0.00  8.44  1.64  0.0     7\n",
      "212  1.51651  14.38  0.00  1.94  73.61  0.00  8.48  1.57  0.0     7\n",
      "213  1.51711  14.23  0.00  2.08  73.36  0.00  8.62  1.67  0.0     7\n",
      "\n",
      "[214 rows x 10 columns]\n"
     ]
    }
   ],
   "source": [
    "#load glass csv data\n",
    "glass = pd.read_csv(\"./datasets/glass.csv\")\n",
    "print(glass)"
   ]
  },
  {
   "cell_type": "code",
   "execution_count": 40,
   "metadata": {},
   "outputs": [
    {
     "name": "stdout",
     "output_type": "stream",
     "text": [
      "Dimensions: (214, 10)\n",
      "Information:\n",
      "<class 'pandas.core.frame.DataFrame'>\n",
      "RangeIndex: 214 entries, 0 to 213\n",
      "Data columns (total 10 columns):\n",
      " #   Column  Non-Null Count  Dtype  \n",
      "---  ------  --------------  -----  \n",
      " 0   RI      214 non-null    float64\n",
      " 1   Na      214 non-null    float64\n",
      " 2   Mg      214 non-null    float64\n",
      " 3   Al      214 non-null    float64\n",
      " 4   Si      214 non-null    float64\n",
      " 5   K       214 non-null    float64\n",
      " 6   Ca      214 non-null    float64\n",
      " 7   Ba      214 non-null    float64\n",
      " 8   Fe      214 non-null    float64\n",
      " 9   Type    214 non-null    int64  \n",
      "dtypes: float64(9), int64(1)\n",
      "memory usage: 16.8 KB\n",
      "None\n",
      "Summary:\n",
      "                RI          Na          Mg          Al          Si           K  \\\n",
      "count  214.000000  214.000000  214.000000  214.000000  214.000000  214.000000   \n",
      "mean     1.518365   13.407850    2.684533    1.444907   72.650935    0.497056   \n",
      "std      0.003037    0.816604    1.442408    0.499270    0.774546    0.652192   \n",
      "min      1.511150   10.730000    0.000000    0.290000   69.810000    0.000000   \n",
      "25%      1.516523   12.907500    2.115000    1.190000   72.280000    0.122500   \n",
      "50%      1.517680   13.300000    3.480000    1.360000   72.790000    0.555000   \n",
      "75%      1.519157   13.825000    3.600000    1.630000   73.087500    0.610000   \n",
      "max      1.533930   17.380000    4.490000    3.500000   75.410000    6.210000   \n",
      "\n",
      "               Ca          Ba          Fe        Type  \n",
      "count  214.000000  214.000000  214.000000  214.000000  \n",
      "mean     8.956963    0.175047    0.057009    2.780374  \n",
      "std      1.423153    0.497219    0.097439    2.103739  \n",
      "min      5.430000    0.000000    0.000000    1.000000  \n",
      "25%      8.240000    0.000000    0.000000    1.000000  \n",
      "50%      8.600000    0.000000    0.000000    2.000000  \n",
      "75%      9.172500    0.000000    0.100000    3.000000  \n",
      "max     16.190000    3.150000    0.510000    7.000000  \n",
      "<bound method NDFrame.head of           RI     Na    Mg    Al     Si     K    Ca    Ba   Fe  Type\n",
      "0    1.52101  13.64  4.49  1.10  71.78  0.06  8.75  0.00  0.0     1\n",
      "1    1.51761  13.89  3.60  1.36  72.73  0.48  7.83  0.00  0.0     1\n",
      "2    1.51618  13.53  3.55  1.54  72.99  0.39  7.78  0.00  0.0     1\n",
      "3    1.51766  13.21  3.69  1.29  72.61  0.57  8.22  0.00  0.0     1\n",
      "4    1.51742  13.27  3.62  1.24  73.08  0.55  8.07  0.00  0.0     1\n",
      "..       ...    ...   ...   ...    ...   ...   ...   ...  ...   ...\n",
      "209  1.51623  14.14  0.00  2.88  72.61  0.08  9.18  1.06  0.0     7\n",
      "210  1.51685  14.92  0.00  1.99  73.06  0.00  8.40  1.59  0.0     7\n",
      "211  1.52065  14.36  0.00  2.02  73.42  0.00  8.44  1.64  0.0     7\n",
      "212  1.51651  14.38  0.00  1.94  73.61  0.00  8.48  1.57  0.0     7\n",
      "213  1.51711  14.23  0.00  2.08  73.36  0.00  8.62  1.67  0.0     7\n",
      "\n",
      "[214 rows x 10 columns]>\n"
     ]
    }
   ],
   "source": [
    "#print data dimensions \n",
    "print(\"Dimensions:\", glass.shape)\n",
    "\n",
    "#print data information \n",
    "print(\"Information:\")\n",
    "print(glass.info())\n",
    "\n",
    "#print data summary \n",
    "print(\"Summary:\\n\",glass.describe())\n",
    "\n",
    "#check the first 5 sets of data\n",
    "print(glass.head)"
   ]
  },
  {
   "cell_type": "code",
   "execution_count": 41,
   "metadata": {},
   "outputs": [
    {
     "name": "stdout",
     "output_type": "stream",
     "text": [
      "0      1\n",
      "1      1\n",
      "2      1\n",
      "3      1\n",
      "4      1\n",
      "      ..\n",
      "209    7\n",
      "210    7\n",
      "211    7\n",
      "212    7\n",
      "213    7\n",
      "Name: Type, Length: 214, dtype: int64\n"
     ]
    }
   ],
   "source": [
    "#determing x and y values \n",
    "X= pd.DataFrame(glass.drop([\"Type\"], axis=1),\n",
    "            columns=['RI','Na','Mg','Al','Si','K','Ca','Ba','Fe'])\n",
    "y=glass.Type\n",
    "print(y)"
   ]
  },
  {
   "cell_type": "code",
   "execution_count": 47,
   "metadata": {},
   "outputs": [],
   "source": [
    "# split the training data into training set and test set\n",
    "X_train, X_test, y_train, y_test = train_test_split(\n",
    "    X, y, test_size=0.3, random_state=40, stratify=y)"
   ]
  },
  {
   "cell_type": "code",
   "execution_count": 48,
   "metadata": {},
   "outputs": [
    {
     "name": "stdout",
     "output_type": "stream",
     "text": [
      "Labels counts in y: [ 0 70 76 17  0 13  9 29]\n",
      "Labels count in y_train: [ 0 49 53 12  0  9  6 20]\n",
      "Labels counts in the y_test [ 0 21 23  5  0  4  3  9]\n"
     ]
    }
   ],
   "source": [
    "#show the numbers of observation in each set \n",
    "print('Labels counts in y:', np.bincount(y))\n",
    "print('Labels count in y_train:', np.bincount(y_train))\n",
    "print('Labels counts in the y_test', np.bincount(y_test))"
   ]
  },
  {
   "cell_type": "code",
   "execution_count": 49,
   "metadata": {},
   "outputs": [],
   "source": [
    "#load the packages and methods to be used\n",
    "from sklearn.preprocessing import StandardScaler\n",
    "\n",
    "#standardize features in the training and test sets\n",
    "sc=StandardScaler()\n",
    "sc.fit(X_train)\n",
    "X_train_std=sc.transform(X_train)\n",
    "X_test_std=sc.transform(X_test)"
   ]
  },
  {
   "cell_type": "code",
   "execution_count": 50,
   "metadata": {
    "scrolled": true
   },
   "outputs": [
    {
     "name": "stdout",
     "output_type": "stream",
     "text": [
      "Feature Dimension: (214, 9)\n",
      "Class labels: [1 2 3 5 6 7]\n"
     ]
    }
   ],
   "source": [
    "#double check standardized features \n",
    "print('Feature Dimension:', X.shape)\n",
    "print('Class labels:', np.unique(y))"
   ]
  },
  {
   "cell_type": "code",
   "execution_count": 51,
   "metadata": {},
   "outputs": [
    {
     "data": {
      "image/png": "[encoded data removed]",
      "text/plain": [
       "<Figure size 432x360 with 2 Axes>"
      ]
     },
     "metadata": {
      "needs_background": "light"
     },
     "output_type": "display_data"
    }
   ],
   "source": [
    "#determine the distance model \n",
    "#find the distance function \n",
    "#import packages and methods \n",
    "#Create a design grid of points on the unit scquare\n",
    "xx, yy = np.meshgrid(np.arange(-1, 1, 0.01), np.arange(-1,1,0.01))\n",
    "xl = xx.flatten()\n",
    "yl = yy.flatten()\n",
    "xy = np.vstack((xl,yl)).T\n",
    "\n",
    "def plot_distance_contours(dist):\n",
    "    dl = dist.pairwise(xy,[[0,0]])\n",
    "    dg = dl.reshape(xx.shape)\n",
    "    plt.figure(1, figsize=(6, 5));\n",
    "    CS=plt.contour(xx,yy,dg);\n",
    "    plt.clabel(CS, inline=1, fontsize=10)\n",
    "    plt.ylim((-1,1));\n",
    "    plt.xlim((-1,1));\n",
    "    plt.colorbar();\n",
    "    plt.plot([0],[0],'ow');\n",
    "    \n",
    "# create the manhattan model \n",
    "glass = DistanceMetric.get_metric('manhattan')\n",
    "plot_distance_contours(glass)\n",
    "\n",
    "#save model as pdf \n",
    "plt.savefig('./images/manhattan_model.png')\n",
    "plt.show()"
   ]
  },
  {
   "cell_type": "markdown",
   "metadata": {},
   "source": [
    "### Learning - Training a KNN model"
   ]
  },
  {
   "cell_type": "code",
   "execution_count": 52,
   "metadata": {},
   "outputs": [
    {
     "data": {
      "text/plain": [
       "KNeighborsClassifier(n_neighbors=6)"
      ]
     },
     "execution_count": 52,
     "metadata": {},
     "output_type": "execute_result"
    }
   ],
   "source": [
    "#load packages and methods \n",
    "from sklearn.neighbors import KNeighborsClassifier\n",
    "\n",
    "#build the KNN model \n",
    "#set classifier \n",
    "knn=KNeighborsClassifier(n_neighbors=6,\n",
    "                        p=2,\n",
    "                        metric='minkowski')\n",
    "#fit classifier on training data\n",
    "knn.fit(X,y)"
   ]
  },
  {
   "cell_type": "markdown",
   "metadata": {},
   "source": [
    "### Prediction"
   ]
  },
  {
   "cell_type": "markdown",
   "metadata": {},
   "source": [
    "Predict the label or class for a new sample with features as\n",
    "\n",
    "RI | Na | Mg | Al | Si | K | Ca | Ba | Fe\n",
    "--- | --- | --- | --- | --- | --- | --- | --- | --- \n",
    "1.6010| 12.51 | 1.67 | 2.15 | 72.19 | 0.79 | 9.3 | 0.28 | 0.54 "
   ]
  },
  {
   "cell_type": "code",
   "execution_count": 53,
   "metadata": {},
   "outputs": [
    {
     "name": "stdout",
     "output_type": "stream",
     "text": [
      "[5]\n"
     ]
    }
   ],
   "source": [
    "#standardize the features \n",
    "test_std=sc.transform([[1.6010,12.51,1.67,2.15,72.19,0.79,9.3,0.28,0.54]])\n",
    "\n",
    "#make prediction\n",
    "predict=knn.predict(test_std)\n",
    "print(predict)"
   ]
  },
  {
   "cell_type": "markdown",
   "metadata": {},
   "source": [
    "Predict the label or class for all the samples in the test set"
   ]
  },
  {
   "cell_type": "code",
   "execution_count": 54,
   "metadata": {},
   "outputs": [],
   "source": [
    "y_predict= knn.predict(X_test)"
   ]
  },
  {
   "cell_type": "markdown",
   "metadata": {},
   "source": [
    "### Classification Report"
   ]
  },
  {
   "cell_type": "code",
   "execution_count": 55,
   "metadata": {},
   "outputs": [
    {
     "name": "stdout",
     "output_type": "stream",
     "text": [
      "              precision    recall  f1-score   support\n",
      "\n",
      "           1       0.57      0.81      0.67        21\n",
      "           2       0.74      0.61      0.67        23\n",
      "           3       0.50      0.20      0.29         5\n",
      "           5       1.00      0.50      0.67         4\n",
      "           6       0.75      1.00      0.86         3\n",
      "           7       1.00      0.89      0.94         9\n",
      "\n",
      "    accuracy                           0.69        65\n",
      "   macro avg       0.76      0.67      0.68        65\n",
      "weighted avg       0.72      0.69      0.68        65\n",
      "\n"
     ]
    }
   ],
   "source": [
    "print(classification_report(y_test, y_predict))"
   ]
  },
  {
   "cell_type": "markdown",
   "metadata": {},
   "source": [
    "## Section II: Decision Tree"
   ]
  },
  {
   "cell_type": "markdown",
   "metadata": {},
   "source": [
    "### Preprocessing"
   ]
  },
  {
   "cell_type": "code",
   "execution_count": 56,
   "metadata": {},
   "outputs": [],
   "source": [
    "# load packages and methods\n",
    "import numpy as np\n",
    "import pandas as pd \n",
    "import matplotlib.pyplot as plt \n",
    "from matplotlib.colors import ListedColormap\n",
    "from sklearn import neighbors, datasets\n",
    "from sklearn.neighbors import DistanceMetric\n",
    "from sklearn.model_selection import train_test_split\n",
    "from sklearn.metrics import confusion_matrix, classification_report, accuracy_score\n",
    "\n",
    "import warnings \n",
    "warnings.filterwarnings('ignore')"
   ]
  },
  {
   "cell_type": "code",
   "execution_count": 57,
   "metadata": {},
   "outputs": [
    {
     "name": "stdout",
     "output_type": "stream",
     "text": [
      "          RI     Na    Mg    Al     Si     K    Ca    Ba   Fe  Type\n",
      "0    1.52101  13.64  4.49  1.10  71.78  0.06  8.75  0.00  0.0     1\n",
      "1    1.51761  13.89  3.60  1.36  72.73  0.48  7.83  0.00  0.0     1\n",
      "2    1.51618  13.53  3.55  1.54  72.99  0.39  7.78  0.00  0.0     1\n",
      "3    1.51766  13.21  3.69  1.29  72.61  0.57  8.22  0.00  0.0     1\n",
      "4    1.51742  13.27  3.62  1.24  73.08  0.55  8.07  0.00  0.0     1\n",
      "..       ...    ...   ...   ...    ...   ...   ...   ...  ...   ...\n",
      "209  1.51623  14.14  0.00  2.88  72.61  0.08  9.18  1.06  0.0     7\n",
      "210  1.51685  14.92  0.00  1.99  73.06  0.00  8.40  1.59  0.0     7\n",
      "211  1.52065  14.36  0.00  2.02  73.42  0.00  8.44  1.64  0.0     7\n",
      "212  1.51651  14.38  0.00  1.94  73.61  0.00  8.48  1.57  0.0     7\n",
      "213  1.51711  14.23  0.00  2.08  73.36  0.00  8.62  1.67  0.0     7\n",
      "\n",
      "[214 rows x 10 columns]\n"
     ]
    }
   ],
   "source": [
    "#load glass csv data\n",
    "glass = pd.read_csv(\"./datasets/glass.csv\")\n",
    "print(glass)"
   ]
  },
  {
   "cell_type": "code",
   "execution_count": 58,
   "metadata": {},
   "outputs": [
    {
     "name": "stdout",
     "output_type": "stream",
     "text": [
      "Dimensions: (214, 10)\n",
      "Information:\n",
      "<class 'pandas.core.frame.DataFrame'>\n",
      "RangeIndex: 214 entries, 0 to 213\n",
      "Data columns (total 10 columns):\n",
      " #   Column  Non-Null Count  Dtype  \n",
      "---  ------  --------------  -----  \n",
      " 0   RI      214 non-null    float64\n",
      " 1   Na      214 non-null    float64\n",
      " 2   Mg      214 non-null    float64\n",
      " 3   Al      214 non-null    float64\n",
      " 4   Si      214 non-null    float64\n",
      " 5   K       214 non-null    float64\n",
      " 6   Ca      214 non-null    float64\n",
      " 7   Ba      214 non-null    float64\n",
      " 8   Fe      214 non-null    float64\n",
      " 9   Type    214 non-null    int64  \n",
      "dtypes: float64(9), int64(1)\n",
      "memory usage: 16.8 KB\n",
      "None\n",
      "Summary:\n",
      "                RI          Na          Mg          Al          Si           K  \\\n",
      "count  214.000000  214.000000  214.000000  214.000000  214.000000  214.000000   \n",
      "mean     1.518365   13.407850    2.684533    1.444907   72.650935    0.497056   \n",
      "std      0.003037    0.816604    1.442408    0.499270    0.774546    0.652192   \n",
      "min      1.511150   10.730000    0.000000    0.290000   69.810000    0.000000   \n",
      "25%      1.516523   12.907500    2.115000    1.190000   72.280000    0.122500   \n",
      "50%      1.517680   13.300000    3.480000    1.360000   72.790000    0.555000   \n",
      "75%      1.519157   13.825000    3.600000    1.630000   73.087500    0.610000   \n",
      "max      1.533930   17.380000    4.490000    3.500000   75.410000    6.210000   \n",
      "\n",
      "               Ca          Ba          Fe        Type  \n",
      "count  214.000000  214.000000  214.000000  214.000000  \n",
      "mean     8.956963    0.175047    0.057009    2.780374  \n",
      "std      1.423153    0.497219    0.097439    2.103739  \n",
      "min      5.430000    0.000000    0.000000    1.000000  \n",
      "25%      8.240000    0.000000    0.000000    1.000000  \n",
      "50%      8.600000    0.000000    0.000000    2.000000  \n",
      "75%      9.172500    0.000000    0.100000    3.000000  \n",
      "max     16.190000    3.150000    0.510000    7.000000  \n",
      "RI      False\n",
      "Na      False\n",
      "Mg      False\n",
      "Al      False\n",
      "Si      False\n",
      "K       False\n",
      "Ca      False\n",
      "Ba      False\n",
      "Fe      False\n",
      "Type    False\n",
      "dtype: bool\n"
     ]
    }
   ],
   "source": [
    "#print data dimensions \n",
    "print(\"Dimensions:\", glass.shape)\n",
    "\n",
    "#print data information \n",
    "print(\"Information:\")\n",
    "print(glass.info())\n",
    "\n",
    "#print data summary \n",
    "print(\"Summary:\\n\",glass.describe())\n",
    "\n",
    "#check for missing values \n",
    "print(glass.isnull().any())"
   ]
  },
  {
   "cell_type": "markdown",
   "metadata": {},
   "source": [
    "### Learning - Training a Decision Tree model"
   ]
  },
  {
   "cell_type": "code",
   "execution_count": 59,
   "metadata": {},
   "outputs": [
    {
     "data": {
      "text/plain": [
       "DecisionTreeClassifier(max_depth=4, random_state=1)"
      ]
     },
     "execution_count": 59,
     "metadata": {},
     "output_type": "execute_result"
    }
   ],
   "source": [
    "# load packages and methods \n",
    "from sklearn.tree import DecisionTreeClassifier\n",
    "\n",
    "#build a decision tree model\n",
    "#set the classifiers \n",
    "tree_model=DecisionTreeClassifier(criterion='gini',\n",
    "                                 max_depth=4,\n",
    "                                 random_state=1)\n",
    "\n",
    "#classifier from the training set \n",
    "tree_model.fit(X_train, y_train)"
   ]
  },
  {
   "cell_type": "markdown",
   "metadata": {},
   "source": [
    "### Prediction"
   ]
  },
  {
   "cell_type": "markdown",
   "metadata": {},
   "source": [
    "Predict the label or class for a new sample with features as\n",
    "\n",
    "RI | Na | Mg | Al | Si | K | Ca | Ba | Fe\n",
    "--- | --- | --- | --- | --- | --- | --- | --- | --- \n",
    "1.6010| 12.51 | 1.67 | 2.15 | 72.19 | 0.79 | 9.3 | 0.28 | 0.54 "
   ]
  },
  {
   "cell_type": "code",
   "execution_count": 60,
   "metadata": {},
   "outputs": [
    {
     "data": {
      "text/plain": [
       "array([5])"
      ]
     },
     "execution_count": 60,
     "metadata": {},
     "output_type": "execute_result"
    }
   ],
   "source": [
    "tree_model.predict([[1.6010,12.51,1.67,2.15,72.19,0.79,9.3,0.28,0.54]])"
   ]
  },
  {
   "cell_type": "markdown",
   "metadata": {},
   "source": [
    "Predict the label or class for all the samples in the test set"
   ]
  },
  {
   "cell_type": "code",
   "execution_count": 61,
   "metadata": {},
   "outputs": [
    {
     "name": "stdout",
     "output_type": "stream",
     "text": [
      "[2 1 1 1 2 7 2 2 1 2 1 1 2 2 1 5 1 7 2 5 2 1 5 1 1 2 7 1 2 1 1 1 1 2 1 1 1\n",
      " 1 1 1 2 1 2 7 1 7 2 1 7 5 1 1 1 7 7 2 2 2 1 6 1 2 7 1 1]\n"
     ]
    }
   ],
   "source": [
    "y_predict=tree_model.predict(X_test)\n",
    "print(y_predict)"
   ]
  },
  {
   "cell_type": "markdown",
   "metadata": {},
   "source": [
    "### Classification Report"
   ]
  },
  {
   "cell_type": "code",
   "execution_count": 62,
   "metadata": {},
   "outputs": [
    {
     "name": "stdout",
     "output_type": "stream",
     "text": [
      "              precision    recall  f1-score   support\n",
      "\n",
      "           1       0.56      0.86      0.68        21\n",
      "           2       0.63      0.52      0.57        23\n",
      "           3       0.00      0.00      0.00         5\n",
      "           5       0.75      0.75      0.75         4\n",
      "           6       0.00      0.00      0.00         3\n",
      "           7       0.89      0.89      0.89         9\n",
      "\n",
      "    accuracy                           0.63        65\n",
      "   macro avg       0.47      0.50      0.48        65\n",
      "weighted avg       0.57      0.63      0.59        65\n",
      "\n"
     ]
    }
   ],
   "source": [
    "print(classification_report(y_test, y_predict))"
   ]
  },
  {
   "cell_type": "markdown",
   "metadata": {},
   "source": [
    "### Present the Decision Tree\n",
    "Please disply the decision tree structure on the screen and save it to either a pdf, jpeg, or png file."
   ]
  },
  {
   "cell_type": "code",
   "execution_count": 63,
   "metadata": {},
   "outputs": [
    {
     "data": {
      "image/png": "[encoded data removed]",
      "text/plain": [
       "<Figure size 432x288 with 1 Axes>"
      ]
     },
     "metadata": {
      "needs_background": "light"
     },
     "output_type": "display_data"
    }
   ],
   "source": [
    "from sklearn import tree \n",
    "import matplotlib.pyplot as plt \n",
    "\n",
    "#plot the decision tree\n",
    "tree.plot_tree(tree_model)\n",
    "\n",
    "#save plot as pdf \n",
    "plt.savefig('./images/tree_model.pdf')\n",
    "plt.show()"
   ]
  },
  {
   "cell_type": "markdown",
   "metadata": {},
   "source": [
    "## Section III: SVM"
   ]
  },
  {
   "cell_type": "markdown",
   "metadata": {},
   "source": [
    "### Preprocessing"
   ]
  },
  {
   "cell_type": "code",
   "execution_count": 64,
   "metadata": {},
   "outputs": [],
   "source": [
    "# load packages and methods\n",
    "import numpy as np\n",
    "import pandas as pd \n",
    "import matplotlib.pyplot as plt \n",
    "from matplotlib.colors import ListedColormap\n",
    "from sklearn import neighbors, datasets\n",
    "from sklearn.neighbors import DistanceMetric\n",
    "from sklearn.model_selection import train_test_split\n",
    "from sklearn.metrics import confusion_matrix, classification_report, accuracy_score\n",
    "\n",
    "import warnings \n",
    "warnings.filterwarnings('ignore')\n"
   ]
  },
  {
   "cell_type": "code",
   "execution_count": 65,
   "metadata": {},
   "outputs": [],
   "source": [
    "#load glass csv data\n",
    "glass = pd.read_csv(\"./datasets/glass.csv\")"
   ]
  },
  {
   "cell_type": "code",
   "execution_count": 66,
   "metadata": {},
   "outputs": [
    {
     "name": "stdout",
     "output_type": "stream",
     "text": [
      "Dimensions: (214, 10)\n",
      "Information:\n",
      "<class 'pandas.core.frame.DataFrame'>\n",
      "RangeIndex: 214 entries, 0 to 213\n",
      "Data columns (total 10 columns):\n",
      " #   Column  Non-Null Count  Dtype  \n",
      "---  ------  --------------  -----  \n",
      " 0   RI      214 non-null    float64\n",
      " 1   Na      214 non-null    float64\n",
      " 2   Mg      214 non-null    float64\n",
      " 3   Al      214 non-null    float64\n",
      " 4   Si      214 non-null    float64\n",
      " 5   K       214 non-null    float64\n",
      " 6   Ca      214 non-null    float64\n",
      " 7   Ba      214 non-null    float64\n",
      " 8   Fe      214 non-null    float64\n",
      " 9   Type    214 non-null    int64  \n",
      "dtypes: float64(9), int64(1)\n",
      "memory usage: 16.8 KB\n",
      "None\n",
      "Summary:\n",
      "                RI          Na          Mg          Al          Si           K  \\\n",
      "count  214.000000  214.000000  214.000000  214.000000  214.000000  214.000000   \n",
      "mean     1.518365   13.407850    2.684533    1.444907   72.650935    0.497056   \n",
      "std      0.003037    0.816604    1.442408    0.499270    0.774546    0.652192   \n",
      "min      1.511150   10.730000    0.000000    0.290000   69.810000    0.000000   \n",
      "25%      1.516523   12.907500    2.115000    1.190000   72.280000    0.122500   \n",
      "50%      1.517680   13.300000    3.480000    1.360000   72.790000    0.555000   \n",
      "75%      1.519157   13.825000    3.600000    1.630000   73.087500    0.610000   \n",
      "max      1.533930   17.380000    4.490000    3.500000   75.410000    6.210000   \n",
      "\n",
      "               Ca          Ba          Fe        Type  \n",
      "count  214.000000  214.000000  214.000000  214.000000  \n",
      "mean     8.956963    0.175047    0.057009    2.780374  \n",
      "std      1.423153    0.497219    0.097439    2.103739  \n",
      "min      5.430000    0.000000    0.000000    1.000000  \n",
      "25%      8.240000    0.000000    0.000000    1.000000  \n",
      "50%      8.600000    0.000000    0.000000    2.000000  \n",
      "75%      9.172500    0.000000    0.100000    3.000000  \n",
      "max     16.190000    3.150000    0.510000    7.000000  \n",
      "Class labels: [1 2 3 5 6 7]\n"
     ]
    }
   ],
   "source": [
    "#print data dimensions \n",
    "print(\"Dimensions:\", glass.shape)\n",
    "\n",
    "#print data information \n",
    "print(\"Information:\")\n",
    "print(glass.info())\n",
    "\n",
    "#print data summary \n",
    "print(\"Summary:\\n\",glass.describe())\n",
    "\n",
    "#double check labels \n",
    "print('Class labels:', np.unique(y))\n",
    "\n",
    "#load packages and methods \n",
    "from sklearn.svm import SVC "
   ]
  },
  {
   "cell_type": "code",
   "execution_count": 67,
   "metadata": {},
   "outputs": [],
   "source": [
    "#assign X and y values \n",
    "X= pd.DataFrame(glass.drop([\"Type\"], axis=1),\n",
    "            columns=['RI','Na','Mg','Al','Si','K','Ca','Ba','Fe'])\n",
    "y=glass.Type"
   ]
  },
  {
   "cell_type": "code",
   "execution_count": 72,
   "metadata": {},
   "outputs": [],
   "source": [
    "# split the training data into training set and test set\n",
    "X_train, X_test, y_train, y_test = train_test_split(\n",
    "    X, y, test_size=0.3, random_state=40, stratify=y)"
   ]
  },
  {
   "cell_type": "markdown",
   "metadata": {},
   "source": [
    "### Learning - Training a SVM model"
   ]
  },
  {
   "cell_type": "code",
   "execution_count": 73,
   "metadata": {},
   "outputs": [
    {
     "name": "stdout",
     "output_type": "stream",
     "text": [
      "SVC(C=inf, decision_function_shape='ovo', kernel='linear', max_iter=5000)\n"
     ]
    }
   ],
   "source": [
    "#load necessary packages and methods \n",
    "from sklearn.svm import SVC\n",
    "\n",
    "#build SVM model \n",
    "#set the classifier \n",
    "svm_clf=SVC(kernel='linear',C=float(\"inf\"), max_iter=5000, decision_function_shape='ovo')\n",
    "\n",
    "#fit the classifier from training sets\n",
    "svm_clf.fit(X_train_std, y_train)\n",
    "print(svm_clf)"
   ]
  },
  {
   "cell_type": "markdown",
   "metadata": {},
   "source": [
    "### Prediction"
   ]
  },
  {
   "cell_type": "markdown",
   "metadata": {},
   "source": [
    "Predict the label or class for a new sample with features as\n",
    "\n",
    "RI | Na | Mg | Al | Si | K | Ca | Ba | Fe\n",
    "--- | --- | --- | --- | --- | --- | --- | --- | --- \n",
    "1.6010| 12.51 | 1.67 | 2.15 | 72.19 | 0.79 | 9.3 | 0.28 | 0.54 "
   ]
  },
  {
   "cell_type": "code",
   "execution_count": 74,
   "metadata": {},
   "outputs": [
    {
     "name": "stdout",
     "output_type": "stream",
     "text": [
      "[7]\n"
     ]
    }
   ],
   "source": [
    "#get prediction\n",
    "X_new=np.array([[1.6010,12.51,1.67,2.15,72.19,0.79,9.3,0.28,0.54]])\n",
    "X_new_std=sc.transform(X_new)\n",
    "y_hat=svm_clf.predict(X_new_std)\n",
    "print(y_hat)"
   ]
  },
  {
   "cell_type": "markdown",
   "metadata": {},
   "source": [
    "Predict the label or class for all the samples in the test set"
   ]
  },
  {
   "cell_type": "code",
   "execution_count": 75,
   "metadata": {},
   "outputs": [
    {
     "name": "stdout",
     "output_type": "stream",
     "text": [
      "[1 2 1 2 2 7 1 1 1 2 1 2 1 6 3 2 2 7 2 2 1 1 1 2 1 2 7 1 6 6 1 1 2 2 1 1 1\n",
      " 2 1 1 3 2 1 3 1 7 2 2 7 7 2 1 1 7 7 6 1 2 1 6 2 2 7 1 1]\n"
     ]
    }
   ],
   "source": [
    "y_hats=svm_clf.predict(X_test_std)\n",
    "print(y_hats)"
   ]
  },
  {
   "cell_type": "markdown",
   "metadata": {},
   "source": [
    "### Classification Report"
   ]
  },
  {
   "cell_type": "code",
   "execution_count": 76,
   "metadata": {},
   "outputs": [
    {
     "name": "stdout",
     "output_type": "stream",
     "text": [
      "                                           precision    recall  f1-score   support\n",
      "\n",
      "   class 1: buildingwindowsfloatprocessed       0.44      0.57      0.50        21\n",
      "class 2: buildingwindowsnonfloatprocessed       0.43      0.39      0.41        23\n",
      " class 3: vehiclewindowsnonfloatprocessed       0.00      0.00      0.00         5\n",
      "                      class 5: containers       0.00      0.00      0.00         4\n",
      "                       class 6: tableware       0.60      1.00      0.75         3\n",
      "                       class 7: headlamps       1.00      1.00      1.00         9\n",
      "\n",
      "                                 accuracy                           0.51        65\n",
      "                                macro avg       0.41      0.49      0.44        65\n",
      "                             weighted avg       0.46      0.51      0.48        65\n",
      "\n"
     ]
    }
   ],
   "source": [
    "#get the classification report \n",
    "target_names=['class 1: buildingwindowsfloatprocessed','class 2: buildingwindowsnonfloatprocessed','class 3: vehiclewindowsnonfloatprocessed','class 5: containers','class 6: tableware','class 7: headlamps']\n",
    "\n",
    "#print the classification report \n",
    "print(classification_report(y_test,y_hats,target_names=target_names))"
   ]
  },
  {
   "cell_type": "markdown",
   "metadata": {},
   "source": [
    "## Section IV: Discussion"
   ]
  },
  {
   "cell_type": "markdown",
   "metadata": {},
   "source": [
    "### Question 1: Describe training samples\n",
    "- How many observations are there in the dataset? \n",
    "- How many features does each observation have? \n",
    "- What/Which columns did you include in your features? Why and Why not?\n",
    "- What/Which column did you use for the label or target value?\n",
    "- What do those values of labels mean? (You may want to check the [data source](#datasource))\n",
    "- How many samples are there in your training set? How many in the test set?\n",
    "\n",
    "Please answer those questions in the cell below."
   ]
  },
  {
   "cell_type": "markdown",
   "metadata": {},
   "source": [
    "#### Answer: \n",
    "- There were 214 oberservations \n",
    "- There were 10 features \n",
    "- I included all of the columns since all were acceptable (had all data, weren't missing information,and weren't duplicates)\n",
    "- I used a drop type for the values \n",
    "- The features are the 'RI', 'Na','Mg', 'Al',\t'Si', 'K',\t'Ca',\t'Ba',\t'Fe' and labels are the names/types of the glasses.\n",
    "- There are 214 samples in the training set and there are 214 in the test samples. \n"
   ]
  },
  {
   "cell_type": "markdown",
   "metadata": {},
   "source": [
    "### Question 2: Explore insights from the model - KNN\n",
    "- How many neighbhors did you consider in the model you built?\n",
    "- Why did you select the number? Have you changed the numbers? \n",
    "- Which distance function did you use in the model you built?\n",
    "- Why did you select that distance function? Have you tried other distance function?\n",
    "- Did any changes in the parameters or arguments (when you set the classifer) make your preidction or classificaton report different?\n",
    "- How did you or can you fine tune the KNN model?\n",
    "\n",
    "Please answer those questions in the cell below."
   ]
  },
  {
   "cell_type": "markdown",
   "metadata": {},
   "source": [
    "Answer:\n",
    "- 6 neighbors \n",
    "- I selected 6 neighbors because we usually used 5 as the neighbors setting in the past labs but when I chose 5 I wouldn't get an output so when I changed it to 6 I would get an output of 6 neighbors. \n",
    "- I used the Manhattan distance model \n",
    "- I used this model because we learned in class that we use this distance model when we are finding the Minkowski distance. \n",
    "- No it didn't change anything but I did change the amount of neighbors to see how the system would react and affect the prediction. \n",
    "- We can fine tune the KNN model with determining the accuracy, choosing the correct distance models, and more to get a more accurate KNN model. "
   ]
  },
  {
   "cell_type": "markdown",
   "metadata": {},
   "source": [
    "### Question 3: Explore insights from the model - Decision Tree\n",
    "- What is the maximum depth in the model you built? \n",
    "- Why did you select that number of depth?\n",
    "- Did any changes in the parameters or arguments (when you set the classifer) make your prediction or classificaton report different?\n",
    "- How did you or can you fine tune the Decision Tree model?\n",
    "- Based on your tree structure (the plot), which feature may be the most important feature to make the prediction?\n",
    "\n",
    "Please answer those questions in the cell below."
   ]
  },
  {
   "cell_type": "markdown",
   "metadata": {},
   "source": [
    "Answer: \n",
    "- I chose a maximum depth 4 \n",
    "- Since the model isn't making too many decisions we would choose a low number so there aren't too many branches coming off of the decision tree. We chose 4 in the past labs and it seemed to be enough so I chose 4 as the maximum depth once again and got a very compact and straightforward decision tree. \n",
    "- No they didn't really change much so I didn't need to change the prediction since it was similar to the KNN model. \n",
    "- Decision trees are tricky if there is the slightest change in data can change the whole lay/build of the decision tree all together. From my research you can fine tune the decision trees with something called hyper parameter tuning which can affect the ins and outs of the decision trees parameters. \n",
    "- I believe the most important feature would be the first node on the decision tree which is . Which on the pdf is X[7] and contains 149 samples. "
   ]
  },
  {
   "cell_type": "markdown",
   "metadata": {},
   "source": [
    "### Question 4: Explore insights from the model - SVM\n",
    "- Which kernel did you use in the model you built?\n",
    "- Why did you select the kernel? Have you tried other kernel?\n",
    "- Did any changes in the parameters or arguments (when you set the classifer) make your preidction or classificaton report different?\n",
    "- How did you or can you fine tune the SVM model?\n",
    "\n",
    "Please answer those questions in the cell below."
   ]
  },
  {
   "cell_type": "markdown",
   "metadata": {},
   "source": [
    "Answer: \n",
    "- I used a linear kernel in the model \n",
    "- I have not tried other kernels like nonlinear, polynominal, etc.,. I used linear kernel because it's the one I've used before but also I used it to best fit the margins and maximize it. \n",
    "- I did have to add a decision functions shape and the function max_iter for it to fit compared to the labs in the past and followed it from the links provided on Scikit website.  \n",
    "- You can fine tune a SVM model by picking the right kernel to best fit the model. "
   ]
  },
  {
   "cell_type": "markdown",
   "metadata": {},
   "source": [
    "### Question 5: Compare learning algorithm\n",
    "For each learning algorithm:\n",
    " - What are the strengths or drawbacks?\n",
    " - Based on those pros and cons, which learning algorithm(s) may be proper to use? \n",
    " - How do those pros and cons affect your analyze in this assignment?\n",
    "\n",
    "Please answer those questions in the cell below."
   ]
  },
  {
   "cell_type": "markdown",
   "metadata": {},
   "source": [
    "Answer: \n",
    "- For KNN a strength is that it's very straightforward and can withstand a large amount of data at a time. A weakness of KNN is that it uses a ton of memory storage and can have a big amount of outliers which isn't helping best fit the margins. For Decision trees a strength is that it's also straightforward like KNN, and it can predict an outcome a while into the future. A weakness of DT is that it may require larger trees depending on the data and it's a bit unstable. For SVM it's strengths are that it only uses support vectors and it's stable in high dimensions.A weakness of SVM is that it's time consuming and quite sensitive.  \n",
    "- I believe the best learning algorithm used would be the decision tree because it will figure out which glass we are finding through process of elimination. \n",
    "- Pros and cons always help determine things and in my everyday life it helps me determine the actions/decisions. With this homework it helped be consider which learning algorithm best determines our results better and more accurately. "
   ]
  },
  {
   "cell_type": "markdown",
   "metadata": {},
   "source": [
    "### Question 6: Evaluate the models\n",
    "From your classification report:\n",
    "- Which model perform the best for this dataset? What might be the reasons to cause that?\n",
    "- Which model perform the worst for this dataset? What might be the reasons to cause that?\n",
    "\n",
    "Please answer those questions in the cell below."
   ]
  },
  {
   "cell_type": "markdown",
   "metadata": {},
   "source": [
    "Answer: \n",
    "-  I personally think that the Decision Tree is the best model for this data. I believe this because considering all the pros and cons of each Decision Tree seems to be the best fit. It's easy to interpret and uses normalization which can put the data into categories to find the best answer. \n",
    "- The worst for this data would be the KNN model. KNN models are nice when you are trying to figure out the most related values or where the data stands amongst all the other value points. KNN wouldn't really help us identify the glass in a timely manner. "
   ]
  },
  {
   "cell_type": "markdown",
   "metadata": {},
   "source": [
    "### Question 7: Reflect on your expereience\n",
    "When you learn and implement those classification models:\n",
    "- What is/are the most interesting part(s) for you?\n",
    "- What is/are the most challenging part(s) for you?\n",
    "- What is/are the not so fun part(s) for you?\n",
    "\n",
    "Please answer those questions in the cell below."
   ]
  },
  {
   "cell_type": "markdown",
   "metadata": {},
   "source": [
    "Answer: \n",
    "- The most interesting part of machine learning to me is the fact we can take a few lines of code and determine bigger scale things. Also just fascinates me that we can calculate data with our computers (I'm old school). \n",
    "- The most challenging thing in this class/machine learning to me is just gaining a better understanding of Python problems and the language itself. I really thrive with problem solving especially when it comes to languages like JavaScript but Python is an obstacle in itself. \n",
    "- I wouldn't say that there are things that aren't fun to me in machine learning quite yet. I think the only thing that bothers me is that my computer is a piece of junk so running the programs on my computer can be a pain and very time consuming. Like I lost all of my previous labs and projects for some apparent reason and I can't seem to get them back so that is a pain. "
   ]
  },
  {
   "cell_type": "markdown",
   "metadata": {},
   "source": [
    "### Question 8: Imagine possible applications or future work \n",
    "Now, you have learned several fundemental classification learning algrithms:\n",
    "- What problems or applications (in daily life, at work, in school, or...) do you want to solve/develop using those machine learning classificaton?\n",
    "- To be able to solve the above problems or to build the applications, what kind of data or information you may need?\n",
    "\n",
    "Please answer those questions in the cell below."
   ]
  },
  {
   "cell_type": "markdown",
   "metadata": {},
   "source": [
    "Answer: \n",
    "- We all can use machine learning in our everyday lives. One way I can apply machine learning is to apply it to my other courses where we are programming machines to impact the environment. \n",
    "- To solve the problems or build these models we need to have accurate and up to date data collections. Having the data in one collected place helps us better determine the code we will need. "
   ]
  }
 ],
 "metadata": {
  "kernelspec": {
   "display_name": "Python 3",
   "language": "python",
   "name": "python3"
  },
  "language_info": {
   "codemirror_mode": {
    "name": "ipython",
    "version": 3
   },
   "file_extension": ".py",
   "mimetype": "text/x-python",
   "name": "python",
   "nbconvert_exporter": "python",
   "pygments_lexer": "ipython3",
   "version": "3.8.5"
  }
 },
 "nbformat": 4,
 "nbformat_minor": 2
}
